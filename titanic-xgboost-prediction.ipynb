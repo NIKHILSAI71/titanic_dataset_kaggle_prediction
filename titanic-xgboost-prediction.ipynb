{
 "cells": [
  {
   "cell_type": "markdown",
   "id": "b39f3dd7",
   "metadata": {},
   "source": [
    "# Titanic Survival Prediction with XGBoost"
   ]
  },
  {
   "cell_type": "markdown",
   "id": "5b7426c8",
   "metadata": {},
   "source": [
    "## Download and Load Dataset"
   ]
  },
  {
   "cell_type": "code",
   "execution_count": 76,
   "id": "f729ac6a",
   "metadata": {},
   "outputs": [
    {
     "name": "stdout",
     "output_type": "stream",
     "text": [
      "Requirement already satisfied: pip in d:\\downloads\\creative\\titanic-dataset-prediction\\.venv\\lib\\site-packages (25.2)\n",
      "Requirement already satisfied: xgboost in d:\\downloads\\creative\\titanic-dataset-prediction\\.venv\\lib\\site-packages (3.1.0)\n",
      "Requirement already satisfied: pandas in d:\\downloads\\creative\\titanic-dataset-prediction\\.venv\\lib\\site-packages (2.3.3)\n",
      "Requirement already satisfied: scikit-learn in d:\\downloads\\creative\\titanic-dataset-prediction\\.venv\\lib\\site-packages (1.7.2)\n",
      "Requirement already satisfied: matplotlib in d:\\downloads\\creative\\titanic-dataset-prediction\\.venv\\lib\\site-packages (3.10.7)\n",
      "Requirement already satisfied: seaborn in d:\\downloads\\creative\\titanic-dataset-prediction\\.venv\\lib\\site-packages (0.13.2)\n",
      "Requirement already satisfied: kagglehub in d:\\downloads\\creative\\titanic-dataset-prediction\\.venv\\lib\\site-packages (0.3.13)\n",
      "Requirement already satisfied: numpy in d:\\downloads\\creative\\titanic-dataset-prediction\\.venv\\lib\\site-packages (from xgboost) (2.3.4)\n",
      "Requirement already satisfied: scipy in d:\\downloads\\creative\\titanic-dataset-prediction\\.venv\\lib\\site-packages (from xgboost) (1.16.2)\n",
      "Requirement already satisfied: python-dateutil>=2.8.2 in d:\\downloads\\creative\\titanic-dataset-prediction\\.venv\\lib\\site-packages (from pandas) (2.9.0.post0)\n",
      "Requirement already satisfied: pytz>=2020.1 in d:\\downloads\\creative\\titanic-dataset-prediction\\.venv\\lib\\site-packages (from pandas) (2025.2)\n",
      "Requirement already satisfied: tzdata>=2022.7 in d:\\downloads\\creative\\titanic-dataset-prediction\\.venv\\lib\\site-packages (from pandas) (2025.2)\n",
      "Requirement already satisfied: joblib>=1.2.0 in d:\\downloads\\creative\\titanic-dataset-prediction\\.venv\\lib\\site-packages (from scikit-learn) (1.5.2)\n",
      "Requirement already satisfied: threadpoolctl>=3.1.0 in d:\\downloads\\creative\\titanic-dataset-prediction\\.venv\\lib\\site-packages (from scikit-learn) (3.6.0)\n",
      "Requirement already satisfied: contourpy>=1.0.1 in d:\\downloads\\creative\\titanic-dataset-prediction\\.venv\\lib\\site-packages (from matplotlib) (1.3.3)\n",
      "Requirement already satisfied: cycler>=0.10 in d:\\downloads\\creative\\titanic-dataset-prediction\\.venv\\lib\\site-packages (from matplotlib) (0.12.1)\n",
      "Requirement already satisfied: fonttools>=4.22.0 in d:\\downloads\\creative\\titanic-dataset-prediction\\.venv\\lib\\site-packages (from matplotlib) (4.60.1)\n",
      "Requirement already satisfied: kiwisolver>=1.3.1 in d:\\downloads\\creative\\titanic-dataset-prediction\\.venv\\lib\\site-packages (from matplotlib) (1.4.9)\n",
      "Requirement already satisfied: packaging>=20.0 in d:\\downloads\\creative\\titanic-dataset-prediction\\.venv\\lib\\site-packages (from matplotlib) (25.0)\n",
      "Requirement already satisfied: pillow>=8 in d:\\downloads\\creative\\titanic-dataset-prediction\\.venv\\lib\\site-packages (from matplotlib) (12.0.0)\n",
      "Requirement already satisfied: pyparsing>=3 in d:\\downloads\\creative\\titanic-dataset-prediction\\.venv\\lib\\site-packages (from matplotlib) (3.2.5)\n",
      "Requirement already satisfied: pyyaml in d:\\downloads\\creative\\titanic-dataset-prediction\\.venv\\lib\\site-packages (from kagglehub) (6.0.3)\n",
      "Requirement already satisfied: requests in d:\\downloads\\creative\\titanic-dataset-prediction\\.venv\\lib\\site-packages (from kagglehub) (2.32.5)\n",
      "Requirement already satisfied: tqdm in d:\\downloads\\creative\\titanic-dataset-prediction\\.venv\\lib\\site-packages (from kagglehub) (4.67.1)\n",
      "Requirement already satisfied: six>=1.5 in d:\\downloads\\creative\\titanic-dataset-prediction\\.venv\\lib\\site-packages (from python-dateutil>=2.8.2->pandas) (1.17.0)\n",
      "Requirement already satisfied: charset_normalizer<4,>=2 in d:\\downloads\\creative\\titanic-dataset-prediction\\.venv\\lib\\site-packages (from requests->kagglehub) (3.4.4)\n",
      "Requirement already satisfied: idna<4,>=2.5 in d:\\downloads\\creative\\titanic-dataset-prediction\\.venv\\lib\\site-packages (from requests->kagglehub) (3.11)\n",
      "Requirement already satisfied: urllib3<3,>=1.21.1 in d:\\downloads\\creative\\titanic-dataset-prediction\\.venv\\lib\\site-packages (from requests->kagglehub) (2.5.0)\n",
      "Requirement already satisfied: certifi>=2017.4.17 in d:\\downloads\\creative\\titanic-dataset-prediction\\.venv\\lib\\site-packages (from requests->kagglehub) (2025.10.5)\n",
      "Requirement already satisfied: colorama in d:\\downloads\\creative\\titanic-dataset-prediction\\.venv\\lib\\site-packages (from tqdm->kagglehub) (0.4.6)\n",
      "Requirement already satisfied: xgboost in d:\\downloads\\creative\\titanic-dataset-prediction\\.venv\\lib\\site-packages (3.1.0)\n",
      "Requirement already satisfied: pandas in d:\\downloads\\creative\\titanic-dataset-prediction\\.venv\\lib\\site-packages (2.3.3)\n",
      "Requirement already satisfied: scikit-learn in d:\\downloads\\creative\\titanic-dataset-prediction\\.venv\\lib\\site-packages (1.7.2)\n",
      "Requirement already satisfied: matplotlib in d:\\downloads\\creative\\titanic-dataset-prediction\\.venv\\lib\\site-packages (3.10.7)\n",
      "Requirement already satisfied: seaborn in d:\\downloads\\creative\\titanic-dataset-prediction\\.venv\\lib\\site-packages (0.13.2)\n",
      "Requirement already satisfied: kagglehub in d:\\downloads\\creative\\titanic-dataset-prediction\\.venv\\lib\\site-packages (0.3.13)\n",
      "Requirement already satisfied: numpy in d:\\downloads\\creative\\titanic-dataset-prediction\\.venv\\lib\\site-packages (from xgboost) (2.3.4)\n",
      "Requirement already satisfied: scipy in d:\\downloads\\creative\\titanic-dataset-prediction\\.venv\\lib\\site-packages (from xgboost) (1.16.2)\n",
      "Requirement already satisfied: python-dateutil>=2.8.2 in d:\\downloads\\creative\\titanic-dataset-prediction\\.venv\\lib\\site-packages (from pandas) (2.9.0.post0)\n",
      "Requirement already satisfied: pytz>=2020.1 in d:\\downloads\\creative\\titanic-dataset-prediction\\.venv\\lib\\site-packages (from pandas) (2025.2)\n",
      "Requirement already satisfied: tzdata>=2022.7 in d:\\downloads\\creative\\titanic-dataset-prediction\\.venv\\lib\\site-packages (from pandas) (2025.2)\n",
      "Requirement already satisfied: joblib>=1.2.0 in d:\\downloads\\creative\\titanic-dataset-prediction\\.venv\\lib\\site-packages (from scikit-learn) (1.5.2)\n",
      "Requirement already satisfied: threadpoolctl>=3.1.0 in d:\\downloads\\creative\\titanic-dataset-prediction\\.venv\\lib\\site-packages (from scikit-learn) (3.6.0)\n",
      "Requirement already satisfied: contourpy>=1.0.1 in d:\\downloads\\creative\\titanic-dataset-prediction\\.venv\\lib\\site-packages (from matplotlib) (1.3.3)\n",
      "Requirement already satisfied: cycler>=0.10 in d:\\downloads\\creative\\titanic-dataset-prediction\\.venv\\lib\\site-packages (from matplotlib) (0.12.1)\n",
      "Requirement already satisfied: fonttools>=4.22.0 in d:\\downloads\\creative\\titanic-dataset-prediction\\.venv\\lib\\site-packages (from matplotlib) (4.60.1)\n",
      "Requirement already satisfied: kiwisolver>=1.3.1 in d:\\downloads\\creative\\titanic-dataset-prediction\\.venv\\lib\\site-packages (from matplotlib) (1.4.9)\n",
      "Requirement already satisfied: packaging>=20.0 in d:\\downloads\\creative\\titanic-dataset-prediction\\.venv\\lib\\site-packages (from matplotlib) (25.0)\n",
      "Requirement already satisfied: pillow>=8 in d:\\downloads\\creative\\titanic-dataset-prediction\\.venv\\lib\\site-packages (from matplotlib) (12.0.0)\n",
      "Requirement already satisfied: pyparsing>=3 in d:\\downloads\\creative\\titanic-dataset-prediction\\.venv\\lib\\site-packages (from matplotlib) (3.2.5)\n",
      "Requirement already satisfied: pyyaml in d:\\downloads\\creative\\titanic-dataset-prediction\\.venv\\lib\\site-packages (from kagglehub) (6.0.3)\n",
      "Requirement already satisfied: requests in d:\\downloads\\creative\\titanic-dataset-prediction\\.venv\\lib\\site-packages (from kagglehub) (2.32.5)\n",
      "Requirement already satisfied: tqdm in d:\\downloads\\creative\\titanic-dataset-prediction\\.venv\\lib\\site-packages (from kagglehub) (4.67.1)\n",
      "Requirement already satisfied: six>=1.5 in d:\\downloads\\creative\\titanic-dataset-prediction\\.venv\\lib\\site-packages (from python-dateutil>=2.8.2->pandas) (1.17.0)\n",
      "Requirement already satisfied: charset_normalizer<4,>=2 in d:\\downloads\\creative\\titanic-dataset-prediction\\.venv\\lib\\site-packages (from requests->kagglehub) (3.4.4)\n",
      "Requirement already satisfied: idna<4,>=2.5 in d:\\downloads\\creative\\titanic-dataset-prediction\\.venv\\lib\\site-packages (from requests->kagglehub) (3.11)\n",
      "Requirement already satisfied: urllib3<3,>=1.21.1 in d:\\downloads\\creative\\titanic-dataset-prediction\\.venv\\lib\\site-packages (from requests->kagglehub) (2.5.0)\n",
      "Requirement already satisfied: certifi>=2017.4.17 in d:\\downloads\\creative\\titanic-dataset-prediction\\.venv\\lib\\site-packages (from requests->kagglehub) (2025.10.5)\n",
      "Requirement already satisfied: colorama in d:\\downloads\\creative\\titanic-dataset-prediction\\.venv\\lib\\site-packages (from tqdm->kagglehub) (0.4.6)\n"
     ]
    }
   ],
   "source": [
    "!python -m pip install --upgrade pip\n",
    "!pip install xgboost pandas scikit-learn matplotlib seaborn kagglehub"
   ]
  },
  {
   "cell_type": "code",
   "execution_count": 77,
   "id": "03549517",
   "metadata": {
    "execution": {
     "iopub.execute_input": "2025-10-21T11:12:55.503427Z",
     "iopub.status.busy": "2025-10-21T11:12:55.503078Z",
     "iopub.status.idle": "2025-10-21T11:12:55.752701Z",
     "shell.execute_reply": "2025-10-21T11:12:55.751516Z",
     "shell.execute_reply.started": "2025-10-21T11:12:55.503403Z"
    },
    "trusted": true
   },
   "outputs": [
    {
     "name": "stdout",
     "output_type": "stream",
     "text": [
      "Path to dataset files: C:\\Users\\nikhi\\.cache\\kagglehub\\datasets\\yasserh\\titanic-dataset\\versions\\1\n"
     ]
    }
   ],
   "source": [
    "import kagglehub\n",
    "\n",
    "# Download latest version\n",
    "path = kagglehub.dataset_download(\"yasserh/titanic-dataset\")\n",
    "\n",
    "print(\"Path to dataset files:\", path)"
   ]
  },
  {
   "cell_type": "code",
   "execution_count": 78,
   "id": "6cf5992e",
   "metadata": {
    "execution": {
     "iopub.execute_input": "2025-10-21T11:12:55.754494Z",
     "iopub.status.busy": "2025-10-21T11:12:55.754204Z",
     "iopub.status.idle": "2025-10-21T11:12:55.776672Z",
     "shell.execute_reply": "2025-10-21T11:12:55.775838Z",
     "shell.execute_reply.started": "2025-10-21T11:12:55.754473Z"
    },
    "trusted": true
   },
   "outputs": [
    {
     "name": "stdout",
     "output_type": "stream",
     "text": [
      "Dataset shape: (891, 12)\n"
     ]
    },
    {
     "data": {
      "application/vnd.microsoft.datawrangler.viewer.v0+json": {
       "columns": [
        {
         "name": "index",
         "rawType": "int64",
         "type": "integer"
        },
        {
         "name": "PassengerId",
         "rawType": "int64",
         "type": "integer"
        },
        {
         "name": "Survived",
         "rawType": "int64",
         "type": "integer"
        },
        {
         "name": "Pclass",
         "rawType": "int64",
         "type": "integer"
        },
        {
         "name": "Name",
         "rawType": "object",
         "type": "string"
        },
        {
         "name": "Sex",
         "rawType": "object",
         "type": "string"
        },
        {
         "name": "Age",
         "rawType": "float64",
         "type": "float"
        },
        {
         "name": "SibSp",
         "rawType": "int64",
         "type": "integer"
        },
        {
         "name": "Parch",
         "rawType": "int64",
         "type": "integer"
        },
        {
         "name": "Ticket",
         "rawType": "object",
         "type": "string"
        },
        {
         "name": "Fare",
         "rawType": "float64",
         "type": "float"
        },
        {
         "name": "Cabin",
         "rawType": "object",
         "type": "unknown"
        },
        {
         "name": "Embarked",
         "rawType": "object",
         "type": "string"
        }
       ],
       "ref": "028e79dc-c5d6-49ea-9113-7d66fcac1489",
       "rows": [
        [
         "0",
         "1",
         "0",
         "3",
         "Braund, Mr. Owen Harris",
         "male",
         "22.0",
         "1",
         "0",
         "A/5 21171",
         "7.25",
         null,
         "S"
        ],
        [
         "1",
         "2",
         "1",
         "1",
         "Cumings, Mrs. John Bradley (Florence Briggs Thayer)",
         "female",
         "38.0",
         "1",
         "0",
         "PC 17599",
         "71.2833",
         "C85",
         "C"
        ],
        [
         "2",
         "3",
         "1",
         "3",
         "Heikkinen, Miss. Laina",
         "female",
         "26.0",
         "0",
         "0",
         "STON/O2. 3101282",
         "7.925",
         null,
         "S"
        ],
        [
         "3",
         "4",
         "1",
         "1",
         "Futrelle, Mrs. Jacques Heath (Lily May Peel)",
         "female",
         "35.0",
         "1",
         "0",
         "113803",
         "53.1",
         "C123",
         "S"
        ],
        [
         "4",
         "5",
         "0",
         "3",
         "Allen, Mr. William Henry",
         "male",
         "35.0",
         "0",
         "0",
         "373450",
         "8.05",
         null,
         "S"
        ]
       ],
       "shape": {
        "columns": 12,
        "rows": 5
       }
      },
      "text/html": [
       "<div>\n",
       "<style scoped>\n",
       "    .dataframe tbody tr th:only-of-type {\n",
       "        vertical-align: middle;\n",
       "    }\n",
       "\n",
       "    .dataframe tbody tr th {\n",
       "        vertical-align: top;\n",
       "    }\n",
       "\n",
       "    .dataframe thead th {\n",
       "        text-align: right;\n",
       "    }\n",
       "</style>\n",
       "<table border=\"1\" class=\"dataframe\">\n",
       "  <thead>\n",
       "    <tr style=\"text-align: right;\">\n",
       "      <th></th>\n",
       "      <th>PassengerId</th>\n",
       "      <th>Survived</th>\n",
       "      <th>Pclass</th>\n",
       "      <th>Name</th>\n",
       "      <th>Sex</th>\n",
       "      <th>Age</th>\n",
       "      <th>SibSp</th>\n",
       "      <th>Parch</th>\n",
       "      <th>Ticket</th>\n",
       "      <th>Fare</th>\n",
       "      <th>Cabin</th>\n",
       "      <th>Embarked</th>\n",
       "    </tr>\n",
       "  </thead>\n",
       "  <tbody>\n",
       "    <tr>\n",
       "      <th>0</th>\n",
       "      <td>1</td>\n",
       "      <td>0</td>\n",
       "      <td>3</td>\n",
       "      <td>Braund, Mr. Owen Harris</td>\n",
       "      <td>male</td>\n",
       "      <td>22.0</td>\n",
       "      <td>1</td>\n",
       "      <td>0</td>\n",
       "      <td>A/5 21171</td>\n",
       "      <td>7.2500</td>\n",
       "      <td>NaN</td>\n",
       "      <td>S</td>\n",
       "    </tr>\n",
       "    <tr>\n",
       "      <th>1</th>\n",
       "      <td>2</td>\n",
       "      <td>1</td>\n",
       "      <td>1</td>\n",
       "      <td>Cumings, Mrs. John Bradley (Florence Briggs Th...</td>\n",
       "      <td>female</td>\n",
       "      <td>38.0</td>\n",
       "      <td>1</td>\n",
       "      <td>0</td>\n",
       "      <td>PC 17599</td>\n",
       "      <td>71.2833</td>\n",
       "      <td>C85</td>\n",
       "      <td>C</td>\n",
       "    </tr>\n",
       "    <tr>\n",
       "      <th>2</th>\n",
       "      <td>3</td>\n",
       "      <td>1</td>\n",
       "      <td>3</td>\n",
       "      <td>Heikkinen, Miss. Laina</td>\n",
       "      <td>female</td>\n",
       "      <td>26.0</td>\n",
       "      <td>0</td>\n",
       "      <td>0</td>\n",
       "      <td>STON/O2. 3101282</td>\n",
       "      <td>7.9250</td>\n",
       "      <td>NaN</td>\n",
       "      <td>S</td>\n",
       "    </tr>\n",
       "    <tr>\n",
       "      <th>3</th>\n",
       "      <td>4</td>\n",
       "      <td>1</td>\n",
       "      <td>1</td>\n",
       "      <td>Futrelle, Mrs. Jacques Heath (Lily May Peel)</td>\n",
       "      <td>female</td>\n",
       "      <td>35.0</td>\n",
       "      <td>1</td>\n",
       "      <td>0</td>\n",
       "      <td>113803</td>\n",
       "      <td>53.1000</td>\n",
       "      <td>C123</td>\n",
       "      <td>S</td>\n",
       "    </tr>\n",
       "    <tr>\n",
       "      <th>4</th>\n",
       "      <td>5</td>\n",
       "      <td>0</td>\n",
       "      <td>3</td>\n",
       "      <td>Allen, Mr. William Henry</td>\n",
       "      <td>male</td>\n",
       "      <td>35.0</td>\n",
       "      <td>0</td>\n",
       "      <td>0</td>\n",
       "      <td>373450</td>\n",
       "      <td>8.0500</td>\n",
       "      <td>NaN</td>\n",
       "      <td>S</td>\n",
       "    </tr>\n",
       "  </tbody>\n",
       "</table>\n",
       "</div>"
      ],
      "text/plain": [
       "   PassengerId  Survived  Pclass  \\\n",
       "0            1         0       3   \n",
       "1            2         1       1   \n",
       "2            3         1       3   \n",
       "3            4         1       1   \n",
       "4            5         0       3   \n",
       "\n",
       "                                                Name     Sex   Age  SibSp  \\\n",
       "0                            Braund, Mr. Owen Harris    male  22.0      1   \n",
       "1  Cumings, Mrs. John Bradley (Florence Briggs Th...  female  38.0      1   \n",
       "2                             Heikkinen, Miss. Laina  female  26.0      0   \n",
       "3       Futrelle, Mrs. Jacques Heath (Lily May Peel)  female  35.0      1   \n",
       "4                           Allen, Mr. William Henry    male  35.0      0   \n",
       "\n",
       "   Parch            Ticket     Fare Cabin Embarked  \n",
       "0      0         A/5 21171   7.2500   NaN        S  \n",
       "1      0          PC 17599  71.2833   C85        C  \n",
       "2      0  STON/O2. 3101282   7.9250   NaN        S  \n",
       "3      0            113803  53.1000  C123        S  \n",
       "4      0            373450   8.0500   NaN        S  "
      ]
     },
     "execution_count": 78,
     "metadata": {},
     "output_type": "execute_result"
    }
   ],
   "source": [
    "import pandas as pd\n",
    "import numpy as np\n",
    "import os\n",
    "\n",
    "data_path = os.path.join(path, 'Titanic-Dataset.csv')\n",
    "df = pd.read_csv(data_path)\n",
    "\n",
    "print(f\"Dataset shape: {df.shape}\")\n",
    "df.head()"
   ]
  },
  {
   "cell_type": "markdown",
   "id": "4d415f40",
   "metadata": {},
   "source": [
    "## Explore the Data"
   ]
  },
  {
   "cell_type": "code",
   "execution_count": 79,
   "id": "f2bada72",
   "metadata": {
    "execution": {
     "iopub.execute_input": "2025-10-21T11:12:55.777762Z",
     "iopub.status.busy": "2025-10-21T11:12:55.777510Z",
     "iopub.status.idle": "2025-10-21T11:12:55.788984Z",
     "shell.execute_reply": "2025-10-21T11:12:55.788151Z",
     "shell.execute_reply.started": "2025-10-21T11:12:55.777729Z"
    },
    "trusted": true
   },
   "outputs": [
    {
     "name": "stdout",
     "output_type": "stream",
     "text": [
      "<class 'pandas.core.frame.DataFrame'>\n",
      "RangeIndex: 891 entries, 0 to 890\n",
      "Data columns (total 12 columns):\n",
      " #   Column       Non-Null Count  Dtype  \n",
      "---  ------       --------------  -----  \n",
      " 0   PassengerId  891 non-null    int64  \n",
      " 1   Survived     891 non-null    int64  \n",
      " 2   Pclass       891 non-null    int64  \n",
      " 3   Name         891 non-null    object \n",
      " 4   Sex          891 non-null    object \n",
      " 5   Age          714 non-null    float64\n",
      " 6   SibSp        891 non-null    int64  \n",
      " 7   Parch        891 non-null    int64  \n",
      " 8   Ticket       891 non-null    object \n",
      " 9   Fare         891 non-null    float64\n",
      " 10  Cabin        204 non-null    object \n",
      " 11  Embarked     889 non-null    object \n",
      "dtypes: float64(2), int64(5), object(5)\n",
      "memory usage: 83.7+ KB\n"
     ]
    }
   ],
   "source": [
    "df.info()"
   ]
  },
  {
   "cell_type": "code",
   "execution_count": 80,
   "id": "037fd863",
   "metadata": {
    "execution": {
     "iopub.execute_input": "2025-10-21T11:12:55.791509Z",
     "iopub.status.busy": "2025-10-21T11:12:55.791166Z",
     "iopub.status.idle": "2025-10-21T11:12:55.808853Z",
     "shell.execute_reply": "2025-10-21T11:12:55.808075Z",
     "shell.execute_reply.started": "2025-10-21T11:12:55.791488Z"
    },
    "trusted": true
   },
   "outputs": [
    {
     "data": {
      "application/vnd.microsoft.datawrangler.viewer.v0+json": {
       "columns": [
        {
         "name": "index",
         "rawType": "object",
         "type": "string"
        },
        {
         "name": "0",
         "rawType": "int64",
         "type": "integer"
        }
       ],
       "ref": "78698688-c02a-402f-8a77-19b3b3fcc0e6",
       "rows": [
        [
         "PassengerId",
         "0"
        ],
        [
         "Survived",
         "0"
        ],
        [
         "Pclass",
         "0"
        ],
        [
         "Name",
         "0"
        ],
        [
         "Sex",
         "0"
        ],
        [
         "Age",
         "177"
        ],
        [
         "SibSp",
         "0"
        ],
        [
         "Parch",
         "0"
        ],
        [
         "Ticket",
         "0"
        ],
        [
         "Fare",
         "0"
        ],
        [
         "Cabin",
         "687"
        ],
        [
         "Embarked",
         "2"
        ]
       ],
       "shape": {
        "columns": 1,
        "rows": 12
       }
      },
      "text/plain": [
       "PassengerId      0\n",
       "Survived         0\n",
       "Pclass           0\n",
       "Name             0\n",
       "Sex              0\n",
       "Age            177\n",
       "SibSp            0\n",
       "Parch            0\n",
       "Ticket           0\n",
       "Fare             0\n",
       "Cabin          687\n",
       "Embarked         2\n",
       "dtype: int64"
      ]
     },
     "execution_count": 80,
     "metadata": {},
     "output_type": "execute_result"
    }
   ],
   "source": [
    "df.isnull().sum()"
   ]
  },
  {
   "cell_type": "markdown",
   "id": "e9b0b000",
   "metadata": {},
   "source": [
    "## Data Preprocessing"
   ]
  },
  {
   "cell_type": "code",
   "execution_count": 81,
   "id": "c3548ab5",
   "metadata": {},
   "outputs": [
    {
     "name": "stdout",
     "output_type": "stream",
     "text": [
      "Dataset shape: (891, 16)\n"
     ]
    },
    {
     "name": "stderr",
     "output_type": "stream",
     "text": [
      "C:\\Users\\nikhi\\AppData\\Local\\Temp\\ipykernel_6788\\543985592.py:25: FutureWarning: A value is trying to be set on a copy of a DataFrame or Series through chained assignment using an inplace method.\n",
      "The behavior will change in pandas 3.0. This inplace method will never work because the intermediate object on which we are setting values always behaves as a copy.\n",
      "\n",
      "For example, when doing 'df[col].method(value, inplace=True)', try using 'df.method({col: value}, inplace=True)' or df[col] = df[col].method(value) instead, to perform the operation inplace on the original object.\n",
      "\n",
      "\n",
      "  df_clean['FarePerPerson'].fillna(df_clean['Fare'].median(), inplace=True)\n"
     ]
    },
    {
     "data": {
      "application/vnd.microsoft.datawrangler.viewer.v0+json": {
       "columns": [
        {
         "name": "index",
         "rawType": "int64",
         "type": "integer"
        },
        {
         "name": "Survived",
         "rawType": "int64",
         "type": "integer"
        },
        {
         "name": "Sex",
         "rawType": "int64",
         "type": "integer"
        },
        {
         "name": "Age",
         "rawType": "float64",
         "type": "float"
        },
        {
         "name": "Fare",
         "rawType": "float64",
         "type": "float"
        },
        {
         "name": "HasCabin",
         "rawType": "int64",
         "type": "integer"
        },
        {
         "name": "FamilySize",
         "rawType": "int64",
         "type": "integer"
        },
        {
         "name": "IsAlone",
         "rawType": "int64",
         "type": "integer"
        },
        {
         "name": "FarePerPerson",
         "rawType": "float64",
         "type": "float"
        },
        {
         "name": "Embarked_Q",
         "rawType": "bool",
         "type": "boolean"
        },
        {
         "name": "Embarked_S",
         "rawType": "bool",
         "type": "boolean"
        },
        {
         "name": "Title_Miss",
         "rawType": "bool",
         "type": "boolean"
        },
        {
         "name": "Title_Mr",
         "rawType": "bool",
         "type": "boolean"
        },
        {
         "name": "Title_Mrs",
         "rawType": "bool",
         "type": "boolean"
        },
        {
         "name": "Title_Rare",
         "rawType": "bool",
         "type": "boolean"
        },
        {
         "name": "Pclass_2",
         "rawType": "bool",
         "type": "boolean"
        },
        {
         "name": "Pclass_3",
         "rawType": "bool",
         "type": "boolean"
        }
       ],
       "ref": "c3a0eae8-d645-47e5-9578-b74b976197ff",
       "rows": [
        [
         "0",
         "0",
         "0",
         "22.0",
         "7.25",
         "0",
         "2",
         "0",
         "3.625",
         "False",
         "True",
         "False",
         "True",
         "False",
         "False",
         "False",
         "True"
        ],
        [
         "1",
         "1",
         "1",
         "38.0",
         "71.2833",
         "1",
         "2",
         "0",
         "35.64165",
         "False",
         "False",
         "False",
         "False",
         "True",
         "False",
         "False",
         "False"
        ],
        [
         "2",
         "1",
         "1",
         "26.0",
         "7.925",
         "0",
         "1",
         "1",
         "7.925",
         "False",
         "True",
         "True",
         "False",
         "False",
         "False",
         "False",
         "True"
        ],
        [
         "3",
         "1",
         "1",
         "35.0",
         "53.1",
         "1",
         "2",
         "0",
         "26.55",
         "False",
         "True",
         "False",
         "False",
         "True",
         "False",
         "False",
         "False"
        ],
        [
         "4",
         "0",
         "0",
         "35.0",
         "8.05",
         "0",
         "1",
         "1",
         "8.05",
         "False",
         "True",
         "False",
         "True",
         "False",
         "False",
         "False",
         "True"
        ]
       ],
       "shape": {
        "columns": 16,
        "rows": 5
       }
      },
      "text/html": [
       "<div>\n",
       "<style scoped>\n",
       "    .dataframe tbody tr th:only-of-type {\n",
       "        vertical-align: middle;\n",
       "    }\n",
       "\n",
       "    .dataframe tbody tr th {\n",
       "        vertical-align: top;\n",
       "    }\n",
       "\n",
       "    .dataframe thead th {\n",
       "        text-align: right;\n",
       "    }\n",
       "</style>\n",
       "<table border=\"1\" class=\"dataframe\">\n",
       "  <thead>\n",
       "    <tr style=\"text-align: right;\">\n",
       "      <th></th>\n",
       "      <th>Survived</th>\n",
       "      <th>Sex</th>\n",
       "      <th>Age</th>\n",
       "      <th>Fare</th>\n",
       "      <th>HasCabin</th>\n",
       "      <th>FamilySize</th>\n",
       "      <th>IsAlone</th>\n",
       "      <th>FarePerPerson</th>\n",
       "      <th>Embarked_Q</th>\n",
       "      <th>Embarked_S</th>\n",
       "      <th>Title_Miss</th>\n",
       "      <th>Title_Mr</th>\n",
       "      <th>Title_Mrs</th>\n",
       "      <th>Title_Rare</th>\n",
       "      <th>Pclass_2</th>\n",
       "      <th>Pclass_3</th>\n",
       "    </tr>\n",
       "  </thead>\n",
       "  <tbody>\n",
       "    <tr>\n",
       "      <th>0</th>\n",
       "      <td>0</td>\n",
       "      <td>0</td>\n",
       "      <td>22.0</td>\n",
       "      <td>7.2500</td>\n",
       "      <td>0</td>\n",
       "      <td>2</td>\n",
       "      <td>0</td>\n",
       "      <td>3.62500</td>\n",
       "      <td>False</td>\n",
       "      <td>True</td>\n",
       "      <td>False</td>\n",
       "      <td>True</td>\n",
       "      <td>False</td>\n",
       "      <td>False</td>\n",
       "      <td>False</td>\n",
       "      <td>True</td>\n",
       "    </tr>\n",
       "    <tr>\n",
       "      <th>1</th>\n",
       "      <td>1</td>\n",
       "      <td>1</td>\n",
       "      <td>38.0</td>\n",
       "      <td>71.2833</td>\n",
       "      <td>1</td>\n",
       "      <td>2</td>\n",
       "      <td>0</td>\n",
       "      <td>35.64165</td>\n",
       "      <td>False</td>\n",
       "      <td>False</td>\n",
       "      <td>False</td>\n",
       "      <td>False</td>\n",
       "      <td>True</td>\n",
       "      <td>False</td>\n",
       "      <td>False</td>\n",
       "      <td>False</td>\n",
       "    </tr>\n",
       "    <tr>\n",
       "      <th>2</th>\n",
       "      <td>1</td>\n",
       "      <td>1</td>\n",
       "      <td>26.0</td>\n",
       "      <td>7.9250</td>\n",
       "      <td>0</td>\n",
       "      <td>1</td>\n",
       "      <td>1</td>\n",
       "      <td>7.92500</td>\n",
       "      <td>False</td>\n",
       "      <td>True</td>\n",
       "      <td>True</td>\n",
       "      <td>False</td>\n",
       "      <td>False</td>\n",
       "      <td>False</td>\n",
       "      <td>False</td>\n",
       "      <td>True</td>\n",
       "    </tr>\n",
       "    <tr>\n",
       "      <th>3</th>\n",
       "      <td>1</td>\n",
       "      <td>1</td>\n",
       "      <td>35.0</td>\n",
       "      <td>53.1000</td>\n",
       "      <td>1</td>\n",
       "      <td>2</td>\n",
       "      <td>0</td>\n",
       "      <td>26.55000</td>\n",
       "      <td>False</td>\n",
       "      <td>True</td>\n",
       "      <td>False</td>\n",
       "      <td>False</td>\n",
       "      <td>True</td>\n",
       "      <td>False</td>\n",
       "      <td>False</td>\n",
       "      <td>False</td>\n",
       "    </tr>\n",
       "    <tr>\n",
       "      <th>4</th>\n",
       "      <td>0</td>\n",
       "      <td>0</td>\n",
       "      <td>35.0</td>\n",
       "      <td>8.0500</td>\n",
       "      <td>0</td>\n",
       "      <td>1</td>\n",
       "      <td>1</td>\n",
       "      <td>8.05000</td>\n",
       "      <td>False</td>\n",
       "      <td>True</td>\n",
       "      <td>False</td>\n",
       "      <td>True</td>\n",
       "      <td>False</td>\n",
       "      <td>False</td>\n",
       "      <td>False</td>\n",
       "      <td>True</td>\n",
       "    </tr>\n",
       "  </tbody>\n",
       "</table>\n",
       "</div>"
      ],
      "text/plain": [
       "   Survived  Sex   Age     Fare  HasCabin  FamilySize  IsAlone  FarePerPerson  \\\n",
       "0         0    0  22.0   7.2500         0           2        0        3.62500   \n",
       "1         1    1  38.0  71.2833         1           2        0       35.64165   \n",
       "2         1    1  26.0   7.9250         0           1        1        7.92500   \n",
       "3         1    1  35.0  53.1000         1           2        0       26.55000   \n",
       "4         0    0  35.0   8.0500         0           1        1        8.05000   \n",
       "\n",
       "   Embarked_Q  Embarked_S  Title_Miss  Title_Mr  Title_Mrs  Title_Rare  \\\n",
       "0       False        True       False      True      False       False   \n",
       "1       False       False       False     False       True       False   \n",
       "2       False        True        True     False      False       False   \n",
       "3       False        True       False     False       True       False   \n",
       "4       False        True       False      True      False       False   \n",
       "\n",
       "   Pclass_2  Pclass_3  \n",
       "0     False      True  \n",
       "1     False     False  \n",
       "2     False      True  \n",
       "3     False     False  \n",
       "4     False      True  "
      ]
     },
     "execution_count": 81,
     "metadata": {},
     "output_type": "execute_result"
    }
   ],
   "source": [
    "from sklearn.impute import SimpleImputer\n",
    "\n",
    "df_clean = df.copy()\n",
    "\n",
    "# Create HasCabin feature\n",
    "df_clean['HasCabin'] = df_clean['Cabin'].notna().astype(int)\n",
    "\n",
    "# Extract Title from Name\n",
    "df_clean['Title'] = df_clean['Name'].str.extract(' ([A-Za-z]+)\\.', expand=False)\n",
    "title_mapping = {\n",
    "    'Mr': 'Mr', 'Miss': 'Miss', 'Mrs': 'Mrs', 'Master': 'Master',\n",
    "    'Dr': 'Rare', 'Rev': 'Rare', 'Col': 'Rare', 'Major': 'Rare', \n",
    "    'Mlle': 'Miss', 'Countess': 'Rare', 'Ms': 'Miss', 'Lady': 'Rare', \n",
    "    'Jonkheer': 'Rare', 'Don': 'Rare', 'Dona': 'Rare', 'Mme': 'Mrs', \n",
    "    'Capt': 'Rare', 'Sir': 'Rare'\n",
    "}\n",
    "df_clean['Title'] = df_clean['Title'].map(title_mapping).fillna('Rare')\n",
    "\n",
    "# Family Size features\n",
    "df_clean['FamilySize'] = df_clean['SibSp'] + df_clean['Parch'] + 1\n",
    "df_clean['IsAlone'] = (df_clean['FamilySize'] == 1).astype(int)\n",
    "\n",
    "# Fare per person\n",
    "df_clean['FarePerPerson'] = df_clean['Fare'] / df_clean['FamilySize']\n",
    "df_clean['FarePerPerson'].fillna(df_clean['Fare'].median(), inplace=True)\n",
    "\n",
    "# Drop unnecessary columns\n",
    "df_clean.drop(['PassengerId', 'Name', 'Ticket', 'Cabin', 'SibSp', 'Parch'], axis=1, inplace=True)\n",
    "\n",
    "# Encode categorical variables\n",
    "df_clean['Sex'] = df_clean['Sex'].map({'male': 0, 'female': 1})\n",
    "df_clean = pd.get_dummies(df_clean, columns=['Embarked', 'Title', 'Pclass'], drop_first=True)\n",
    "\n",
    "print(f\"Dataset shape: {df_clean.shape}\")\n",
    "df_clean.head()"
   ]
  },
  {
   "cell_type": "markdown",
   "id": "d9e6c47b",
   "metadata": {},
   "source": [
    "## Split Data"
   ]
  },
  {
   "cell_type": "code",
   "execution_count": 82,
   "id": "c818d54b",
   "metadata": {},
   "outputs": [
    {
     "name": "stdout",
     "output_type": "stream",
     "text": [
      "Training set: (712, 15)\n",
      "Test set: (179, 15)\n"
     ]
    }
   ],
   "source": [
    "from sklearn.model_selection import train_test_split\n",
    "from sklearn.impute import SimpleImputer\n",
    "\n",
    "X = df_clean.drop('Survived', axis=1)\n",
    "y = df_clean['Survived']\n",
    "\n",
    "X_train, X_test, y_train, y_test = train_test_split(\n",
    "    X, y, test_size=0.2, random_state=42, stratify=y\n",
    ")\n",
    "\n",
    "# Impute missing values using training data only\n",
    "imputer = SimpleImputer(strategy='median')\n",
    "X_train = pd.DataFrame(\n",
    "    imputer.fit_transform(X_train),\n",
    "    columns=X_train.columns,\n",
    "    index=X_train.index\n",
    ")\n",
    "X_test = pd.DataFrame(\n",
    "    imputer.transform(X_test),\n",
    "    columns=X_test.columns,\n",
    "    index=X_test.index\n",
    ")\n",
    "\n",
    "print(f\"Training set: {X_train.shape}\")\n",
    "print(f\"Test set: {X_test.shape}\")"
   ]
  },
  {
   "cell_type": "markdown",
   "id": "17699d84",
   "metadata": {},
   "source": [
    "## Train Model"
   ]
  },
  {
   "cell_type": "code",
   "execution_count": 83,
   "id": "fdfc85fd",
   "metadata": {},
   "outputs": [
    {
     "name": "stdout",
     "output_type": "stream",
     "text": [
      "Best CV Score: 0.8343\n"
     ]
    }
   ],
   "source": [
    "from sklearn.model_selection import RandomizedSearchCV\n",
    "from xgboost import XGBClassifier\n",
    "from scipy.stats import uniform, randint\n",
    "\n",
    "param_dist = {\n",
    "    'max_depth': randint(3, 10),\n",
    "    'learning_rate': uniform(0.01, 0.3),\n",
    "    'n_estimators': randint(100, 500),\n",
    "    'min_child_weight': randint(1, 7),\n",
    "    'subsample': uniform(0.6, 0.4),\n",
    "    'colsample_bytree': uniform(0.6, 0.4),\n",
    "    'gamma': uniform(0, 0.5)\n",
    "}\n",
    "\n",
    "xgb_model = XGBClassifier(random_state=42, eval_metric='logloss')\n",
    "\n",
    "random_search = RandomizedSearchCV(\n",
    "    estimator=xgb_model,\n",
    "    param_distributions=param_dist,\n",
    "    n_iter=50,\n",
    "    cv=5,\n",
    "    scoring='accuracy',\n",
    "    n_jobs=-1,\n",
    "    random_state=42,\n",
    "    verbose=0\n",
    ")\n",
    "\n",
    "random_search.fit(X_train, y_train)\n",
    "model = random_search.best_estimator_\n",
    "\n",
    "print(f\"Best CV Score: {random_search.best_score_:.4f}\")"
   ]
  },
  {
   "cell_type": "code",
   "execution_count": 84,
   "id": "d982c102",
   "metadata": {},
   "outputs": [
    {
     "name": "stdout",
     "output_type": "stream",
     "text": [
      "Models trained\n"
     ]
    }
   ],
   "source": [
    "from sklearn.ensemble import RandomForestClassifier\n",
    "from sklearn.linear_model import LogisticRegression\n",
    "from sklearn.preprocessing import StandardScaler\n",
    "\n",
    "# Train additional models for ensemble\n",
    "scaler = StandardScaler()\n",
    "X_train_scaled = scaler.fit_transform(X_train)\n",
    "X_test_scaled = scaler.transform(X_test)\n",
    "\n",
    "rf_model = RandomForestClassifier(n_estimators=300, max_depth=7, random_state=42)\n",
    "rf_model.fit(X_train, y_train)\n",
    "\n",
    "lr_model = LogisticRegression(max_iter=1000, random_state=42)\n",
    "lr_model.fit(X_train_scaled, y_train)\n",
    "\n",
    "print(\"Models trained\")"
   ]
  },
  {
   "cell_type": "markdown",
   "id": "6a7be44a",
   "metadata": {},
   "source": [
    "## Make Predictions"
   ]
  },
  {
   "cell_type": "code",
   "execution_count": 85,
   "id": "e0f0cf77",
   "metadata": {
    "execution": {
     "iopub.execute_input": "2025-10-21T11:12:55.927690Z",
     "iopub.status.busy": "2025-10-21T11:12:55.927468Z",
     "iopub.status.idle": "2025-10-21T11:12:55.939943Z",
     "shell.execute_reply": "2025-10-21T11:12:55.938882Z",
     "shell.execute_reply.started": "2025-10-21T11:12:55.927672Z"
    },
    "trusted": true
   },
   "outputs": [
    {
     "name": "stdout",
     "output_type": "stream",
     "text": [
      " Actual  Predicted  Confidence\n",
      "      0          0    0.051581\n",
      "      0          0    0.055585\n",
      "      1          0    0.127185\n",
      "      0          0    0.046069\n",
      "      1          1    0.667263\n",
      "      1          0    0.418357\n",
      "      1          1    0.756317\n",
      "      0          1    0.698762\n",
      "      0          0    0.429852\n",
      "      0          0    0.129303\n",
      "      0          0    0.163656\n",
      "      0          0    0.141153\n",
      "      1          0    0.460901\n",
      "      0          0    0.154480\n",
      "      0          0    0.215813\n",
      "\n",
      "Total predictions: 179\n"
     ]
    }
   ],
   "source": [
    "# Ensemble predictions\n",
    "xgb_proba = model.predict_proba(X_test)\n",
    "rf_proba = rf_model.predict_proba(X_test)\n",
    "lr_proba = lr_model.predict_proba(X_test_scaled)\n",
    "\n",
    "ensemble_proba = (xgb_proba + rf_proba + lr_proba) / 3\n",
    "y_pred = (ensemble_proba[:, 1] > 0.5).astype(int)\n",
    "\n",
    "predictions_df = pd.DataFrame({\n",
    "    'Actual': y_test.values,\n",
    "    'Predicted': y_pred,\n",
    "    'Confidence': ensemble_proba[:, 1]\n",
    "})\n",
    "\n",
    "print(predictions_df.head(15).to_string(index=False))\n",
    "print(f\"\\nTotal predictions: {len(y_pred)}\")"
   ]
  },
  {
   "cell_type": "markdown",
   "id": "ece40427",
   "metadata": {},
   "source": [
    "## Model Accuracy"
   ]
  },
  {
   "cell_type": "code",
   "execution_count": 86,
   "id": "9fd57079",
   "metadata": {
    "execution": {
     "iopub.execute_input": "2025-10-21T11:12:55.942509Z",
     "iopub.status.busy": "2025-10-21T11:12:55.942231Z",
     "iopub.status.idle": "2025-10-21T11:12:55.956994Z",
     "shell.execute_reply": "2025-10-21T11:12:55.956137Z",
     "shell.execute_reply.started": "2025-10-21T11:12:55.942488Z"
    },
    "trusted": true
   },
   "outputs": [
    {
     "name": "stdout",
     "output_type": "stream",
     "text": [
      "Accuracy: 0.8212 (82.12%)\n",
      "Correct Predictions: 147/179\n",
      "Predicted Survivors: 59/179\n"
     ]
    }
   ],
   "source": [
    "from sklearn.metrics import accuracy_score\n",
    "\n",
    "accuracy = accuracy_score(y_test, y_pred)\n",
    "correct = (y_test == y_pred).sum()\n",
    "total = len(y_test)\n",
    "\n",
    "print(f\"Accuracy: {accuracy:.4f} ({accuracy*100:.2f}%)\")\n",
    "print(f\"Correct Predictions: {correct}/{total}\")\n",
    "print(f\"Predicted Survivors: {(y_pred == 1).sum()}/{total}\")"
   ]
  },
  {
   "cell_type": "markdown",
   "id": "d43b4fb4",
   "metadata": {},
   "source": [
    "## Error Analysis"
   ]
  },
  {
   "cell_type": "code",
   "execution_count": 87,
   "id": "1118405f",
   "metadata": {
    "execution": {
     "iopub.execute_input": "2025-10-21T11:12:55.978580Z",
     "iopub.status.busy": "2025-10-21T11:12:55.977996Z",
     "iopub.status.idle": "2025-10-21T11:12:55.999152Z",
     "shell.execute_reply": "2025-10-21T11:12:55.997580Z",
     "shell.execute_reply.started": "2025-10-21T11:12:55.978554Z"
    },
    "trusted": true
   },
   "outputs": [
    {
     "name": "stdout",
     "output_type": "stream",
     "text": [
      "True Negatives: 99\n",
      "True Positives: 48\n",
      "False Positives: 11\n",
      "False Negatives: 21\n",
      "\n",
      "Precision: 0.8136\n",
      "Recall: 0.6957\n"
     ]
    }
   ],
   "source": [
    "false_positives = ((y_test == 0) & (y_pred == 1)).sum()\n",
    "false_negatives = ((y_test == 1) & (y_pred == 0)).sum()\n",
    "true_positives = ((y_test == 1) & (y_pred == 1)).sum()\n",
    "true_negatives = ((y_test == 0) & (y_pred == 0)).sum()\n",
    "\n",
    "print(f\"True Negatives: {true_negatives}\")\n",
    "print(f\"True Positives: {true_positives}\")\n",
    "print(f\"False Positives: {false_positives}\")\n",
    "print(f\"False Negatives: {false_negatives}\")\n",
    "\n",
    "precision = true_positives / (true_positives + false_positives) if (true_positives + false_positives) > 0 else 0\n",
    "recall = true_positives / (true_positives + false_negatives) if (true_positives + false_negatives) > 0 else 0\n",
    "\n",
    "print(f\"\\nPrecision: {precision:.4f}\")\n",
    "print(f\"Recall: {recall:.4f}\")"
   ]
  }
 ],
 "metadata": {
  "kaggle": {
   "accelerator": "none",
   "dataSources": [
    {
     "datasetId": 1818188,
     "sourceId": 2965537,
     "sourceType": "datasetVersion"
    }
   ],
   "dockerImageVersionId": 31153,
   "isGpuEnabled": false,
   "isInternetEnabled": true,
   "language": "python",
   "sourceType": "notebook"
  },
  "kernelspec": {
   "display_name": ".venv",
   "language": "python",
   "name": "python3"
  },
  "language_info": {
   "codemirror_mode": {
    "name": "ipython",
    "version": 3
   },
   "file_extension": ".py",
   "mimetype": "text/x-python",
   "name": "python",
   "nbconvert_exporter": "python",
   "pygments_lexer": "ipython3",
   "version": "3.11.9"
  }
 },
 "nbformat": 4,
 "nbformat_minor": 5
}
